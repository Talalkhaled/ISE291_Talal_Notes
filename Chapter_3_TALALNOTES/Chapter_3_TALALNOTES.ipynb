{
 "cells": [
  {
   "cell_type": "markdown",
   "id": "50c88679",
   "metadata": {},
   "source": [
    "# Talal Notes for chapter 3 ISE291\n",
    "\n",
    "<mark> **These notes are not to undermine the importance of the course slides, but rather provide extra help for understanding and applying code and explain the concept in a simplified manner!**</mark>\n",
    "    \n",
    "<span style = 'color:#ec042d'> **Please review the course material for a more detailed understanding** </span>"
   ]
  },
  {
   "cell_type": "markdown",
   "id": "60c038b4",
   "metadata": {},
   "source": [
    "# Filed types\n",
    "\n",
    "- Numerical data>> These are numbers that we can use in mathematical equations, like age, height, temperature, your Physic's score, etc.\n",
    "\n",
    "- Categorical data>> From the name we know it represents categories, like color, gender, types of food, etc.\n",
    "\n",
    " - Nominal Data>> when categorical are of specific number, Like responses of Yes or No, gender, and hair color, all can be .represented as 0s and 1s. However, unlike numerical data these values **CAN NOT** be used in  mathematical equations.\n",
    " - Ordinal Data>> represent data with order or ranking, like letter grades (A,B,C,D,F), or temperature as (High,Medium,Low)."
   ]
  },
  {
   "cell_type": "markdown",
   "id": "ab89381d",
   "metadata": {},
   "source": [
    "# Field Segregation\n",
    "- Independent variable>> Does not change with the change of other variables, like **X** in Y=f(X)\n",
    "- Dependent variable>> Changes with the change of other variables, like **Y** in Y=f(X)\n",
    "- Auxiliary Variables>> These are the variables that provide meta information about the data, and may not be helpful (or may not be meant) to be used in the analysis."
   ]
  },
  {
   "cell_type": "markdown",
   "id": "0454499d",
   "metadata": {},
   "source": [
    "# Histograms\n",
    "- They are mainly used to represent occurrence/frequency (how many times a specific data occurs) of Categorical data, but we can also use histograms to represent numerical data as well. However, we do not want to show every single number in the data, rather we specify **BINS**:\n",
    " - Bins represent a **RANGE** of values, and how often those ranges occur in the data."
   ]
  },
  {
   "cell_type": "code",
   "execution_count": 18,
   "id": "517d798d",
   "metadata": {},
   "outputs": [],
   "source": [
    "## Example of visualizing categorical data using histograms\n",
    "\n",
    "## Creating the data\n",
    "\n",
    "import pandas as pd\n",
    "genders =['M','M','F','F','M','F','M','M','M','F']"
   ]
  },
  {
   "cell_type": "code",
   "execution_count": 23,
   "id": "1ee92ddf",
   "metadata": {},
   "outputs": [
    {
     "data": {
      "image/png": "[encoded data removed]",
      "text/plain": [
       "<Figure size 360x360 with 1 Axes>"
      ]
     },
     "metadata": {
      "needs_background": "light"
     },
     "output_type": "display_data"
    }
   ],
   "source": [
    "## To visualize the data\n",
    "\n",
    "import matplotlib.pyplot as plt ## Pyplot is used to represent diffrenet types of visual graphs!\n",
    "\n",
    "plt.figure(figsize=(5,5)) ## Define the graph's size (width,height)\n",
    "plt.hist(genders) ## hist() function in pyplot to output the histogram\n",
    "plt.show()"
   ]
  },
  {
   "cell_type": "markdown",
   "id": "f8f74a41",
   "metadata": {},
   "source": [
    "### The histogram shows that M occurred 6 times, while F occurred 4 times"
   ]
  },
  {
   "cell_type": "code",
   "execution_count": 25,
   "id": "b2294ba7",
   "metadata": {},
   "outputs": [],
   "source": [
    "## Example of visualizing numerical data using histograms\n",
    "\n",
    "## Creating the data\n",
    "\n",
    "Score = [ 75,  81,  95,  85,  81,  82,  97,  89,  76, 100,  77,  79,  87, \n",
    "         87,  79,  75, 100,  82,  83,  98, 86, 87, 71, 78, 81]"
   ]
  },
  {
   "cell_type": "code",
   "execution_count": 30,
   "id": "d002a557",
   "metadata": {},
   "outputs": [
    {
     "data": {
      "image/png": "[encoded data removed]",
      "text/plain": [
       "<Figure size 360x360 with 1 Axes>"
      ]
     },
     "metadata": {
      "needs_background": "light"
     },
     "output_type": "display_data"
    }
   ],
   "source": [
    "## To visualize the data, follow the same steps in categorical data, but remember to define bins!\n",
    "plt.figure(figsize=(5,5))\n",
    "plt.hist(Score,bins=[71,81,91,100]) # Creates three bins as ranges thate are: 71-80, 81-90, 91-100 >> Three bins\n",
    "plt.show()"
   ]
  },
  {
   "cell_type": "code",
   "execution_count": 31,
   "id": "4bb09cb4",
   "metadata": {},
   "outputs": [
    {
     "data": {
      "image/png": "[encoded data removed]",
      "text/plain": [
       "<Figure size 360x360 with 1 Axes>"
      ]
     },
     "metadata": {
      "needs_background": "light"
     },
     "output_type": "display_data"
    }
   ],
   "source": [
    "## You can alos define how many bins do you want\n",
    "plt.figure(figsize=(5,5))\n",
    "plt.hist(Score,bins=10) # Creates 10 bins\n",
    "plt.show()"
   ]
  },
  {
   "cell_type": "markdown",
   "id": "ede79453",
   "metadata": {},
   "source": [
    "### The gap in the histogram shows that there no values in the range of approximately (91,94)"
   ]
  },
  {
   "cell_type": "markdown",
   "id": "3e874d96",
   "metadata": {},
   "source": [
    "# Another graph that can also represent occurrence is called pie-chart."
   ]
  },
  {
   "cell_type": "markdown",
   "id": "00f9c432",
   "metadata": {},
   "source": [
    "#### In pie-chart we need the labels of the data, and the occurrence\n",
    "\n",
    "- numpy library can do that pretty easily!"
   ]
  },
  {
   "cell_type": "code",
   "execution_count": 40,
   "id": "8c936039",
   "metadata": {},
   "outputs": [
    {
     "data": {
      "image/png": "[encoded data removed]",
      "text/plain": [
       "<Figure size 432x288 with 1 Axes>"
      ]
     },
     "metadata": {},
     "output_type": "display_data"
    }
   ],
   "source": [
    "## Let us represent gender in a pie-chart\n",
    "\n",
    "## From our data let us creat two variables!\n",
    "\n",
    "import numpy as np\n",
    "\n",
    "labels, counts = np.unique(genders,return_counts=True) ## Creat two variables in one line for label names and counts or occurrence\n",
    "\n",
    "plt.figure()\n",
    "plt.pie(counts, labels = labels,autopct='%.2f%%') #autopct to show percentages\n",
    "plt.show()"
   ]
  },
  {
   "cell_type": "markdown",
   "id": "2e67d7aa",
   "metadata": {},
   "source": [
    "# Normal Distribution\n",
    "\n",
    "- Benefits of having a normally distributed data are as follows:\n",
    "    - Easy to interpret\n",
    "    - Can be used to build a prediction model (Regression model>> will be covered in chapter 6 in this course)\n",
    "    - Symmetry is achieved>> Mean, Median, and Mode are all **Equal**\n",
    "    - Less outliers"
   ]
  },
  {
   "cell_type": "markdown",
   "id": "670ede6e",
   "metadata": {},
   "source": [
    " <img src=\"img/ISE291_CH3_IMG1.PNG\" width=1200 height=800 />"
   ]
  },
  {
   "cell_type": "markdown",
   "id": "a0d9413b",
   "metadata": {},
   "source": [
    "# Measures of Centrality\n",
    "\n",
    "- There are three measures of centrality\n",
    "    - Mean>> Also Known As the average with the symbol $\\overline{x}$. Mean is highly affected by the presence of outliers.\n",
    "    - Median>> Falls in the **MIDDLE** of the data with the symbol $\\tilde{x}$. Median is less affected by the outliers\n",
    "    - Mode>> It is the most frequent value. Mostly used in non-numerical data"
   ]
  },
  {
   "cell_type": "markdown",
   "id": "bc99c409",
   "metadata": {},
   "source": [
    "<div style=\"align: center; text-align:center;\">\n",
    " <table style=\"width:100%\">\n",
    "  <tr>\n",
    "    <td><img src=\"img/ISE291_CH3_IMG2.PNG\" width=555 height=600 /></td>\n",
    "    <td><img src=\"img/ISE291_CH3_IMG3.PNG\" width=555 height=600 /></td>\n",
    "  </tr>\n",
    "     </table> \n",
    "</div>"
   ]
  },
  {
   "cell_type": "markdown",
   "id": "ef2d254d",
   "metadata": {},
   "source": [
    "#### The median equation is to make your findings of the middle value faster"
   ]
  },
  {
   "cell_type": "code",
   "execution_count": 1,
   "id": "929abf55",
   "metadata": {},
   "outputs": [
    {
     "name": "stdout",
     "output_type": "stream",
     "text": [
      "The mean is 84.44, the median is 82.0, and the mode is [81].\n"
     ]
    }
   ],
   "source": [
    "## From course notes\n",
    "\n",
    "## Calculate the measures using Python.\n",
    "\n",
    "import numpy as np\n",
    "from scipy import stats \n",
    "\n",
    "Score = [75,  81,  95,  85,  81,  82,  97,  89,  76, 100,  77,  79,  87, 87,  79,  75, 100,  82,  83,  98, 86, 87, 71, 78, 81]\n",
    "Score = np.array(Score)\n",
    "\n",
    "print(f'The mean is {Score.mean()}, the median is {np.median(Score)}, and the mode is {stats.mode(Score)[0]}.')\n",
    "\n",
    "# stats.mode return single minimum value of the mode, \n",
    "# when multiple non-unique modes are present in the data."
   ]
  },
  {
   "cell_type": "code",
   "execution_count": 4,
   "id": "9198aba2",
   "metadata": {},
   "outputs": [
    {
     "data": {
      "text/plain": [
       "[81, 87]"
      ]
     },
     "metadata": {},
     "output_type": "display_data"
    }
   ],
   "source": [
    "from statistics import multimode ## To show all the modes\n",
    "display(multimode(Score))"
   ]
  },
  {
   "cell_type": "markdown",
   "id": "296a4bfe",
   "metadata": {},
   "source": [
    "# Measures of Variability/Dispersion of a Distribution\n",
    "To show how data varies, we use the following measures\n",
    "\n",
    "- Range>> R= Max – Min.\n",
    "- Interquartile Range>> I𝑄𝑅=𝑄3−𝑄1\n",
    "- Variance>>\n",
    "    - $$\\sigma^2=\\frac{\\sum (X_i-\\overline{X})^2}{N}$$Where N is the **POPULATION** size\n",
    "    - $$s^2=\\frac{\\sum (x_i-\\overline{x})^2}{n-1}$$Where n is the **SAMPLE** size\n",
    "- Standard Deviation>> Is the square root of the variance, whether it is population variance or sample variance"
   ]
  },
  {
   "cell_type": "code",
   "execution_count": 5,
   "id": "ca9318f4",
   "metadata": {},
   "outputs": [
    {
     "name": "stdout",
     "output_type": "stream",
     "text": [
      "The Range is 29, \n",
      "the sample variance is 67.33999999999999, and \n",
      "the sample standard deviation is 8.206095295571457.\n"
     ]
    }
   ],
   "source": [
    "## From notes\n",
    "## Calculate the measures using Python.\n",
    "\n",
    "import numpy as np\n",
    "\n",
    "Score = [ 75,  81,  95,  85,  81,  82,  97,  89,  76, 100,  77,  79,  87, 87,  79,  75, 100,  82,  83,  98, 86, 87, 71, 78, 81]\n",
    "Score = np.array(Score)\n",
    "\n",
    "\n",
    "print(f\"\"\"The Range is {Score.max()-Score.min()}, \n",
    "the sample variance is {np.var(Score,ddof=1)}, and \n",
    "the sample standard deviation is {np.std(Score,ddof=1)}.\"\"\")"
   ]
  },
  {
   "cell_type": "code",
   "execution_count": 6,
   "id": "89294e31",
   "metadata": {},
   "outputs": [
    {
     "name": "stdout",
     "output_type": "stream",
     "text": [
      "8.206095295571457\n"
     ]
    }
   ],
   "source": [
    "## Can also calculate standard deviation as follows\n",
    "\n",
    "print(np.sqrt( np.var(Score,ddof=1) )) ## Gives the same value as np.std(Score,ddof=1)"
   ]
  },
  {
   "cell_type": "markdown",
   "id": "bf09c5e7",
   "metadata": {},
   "source": [
    "### Notes about Q1,Q3\n",
    " - Q1 & Q3 are called percentiles, they are used to calculate the Interquartile range, which is used to build the **BOX PLOT**\n",
    "     - Q1 is where 25% of the data falls\n",
    "     - Q2 is where 50% of the data falls>> where we expect to find the **median**\n",
    "     - Q3 is where 75% of the data falls"
   ]
  },
  {
   "cell_type": "markdown",
   "id": "7f2b0e64",
   "metadata": {},
   "source": [
    "# Box Plot\n",
    "\n",
    "Box Plot gives a clear visualization of how data is distributed, and also can show where the outliers are, just look for values outside the minimum or maximum"
   ]
  },
  {
   "cell_type": "markdown",
   "id": "f67b08da",
   "metadata": {},
   "source": [
    "<img src=\"img/ISE291_CH3_IMG4.png\" width=640 height=640 />"
   ]
  },
  {
   "cell_type": "markdown",
   "id": "ea0d0aa8",
   "metadata": {},
   "source": [
    "<img src=\"img/box1.png\" width=640 height=640 />"
   ]
  },
  {
   "cell_type": "markdown",
   "id": "27b9b5f2",
   "metadata": {},
   "source": [
    "<img src=\"img/ISE291_CH3_IMG5.png\" width=640 height=640 />"
   ]
  },
  {
   "cell_type": "code",
   "execution_count": 8,
   "id": "6fcce375",
   "metadata": {},
   "outputs": [
    {
     "data": {
      "image/png": "[encoded data removed]",
      "text/plain": [
       "<Figure size 216x576 with 1 Axes>"
      ]
     },
     "metadata": {
      "needs_background": "light"
     },
     "output_type": "display_data"
    }
   ],
   "source": [
    "## From course notes\n",
    "\n",
    "# Draw the box plot of score.\n",
    "\n",
    "Score = [ 75,  81,  95,  85,  81,  82,  97,  89,  76, 100,  77,  79,  87, 87,  79,  75, 100,  82,  83,  98, 86, 87, 71, 78, 81]\n",
    "Score = np.array(Score)\n",
    "\n",
    "import matplotlib.pyplot as plt\n",
    "plt.figure(figsize=(3,8))\n",
    "plt.boxplot(Score) \n",
    "plt.title('Box Plot') ## Title of the graph\n",
    "plt.show()"
   ]
  },
  {
   "cell_type": "markdown",
   "id": "ee5b9b99",
   "metadata": {},
   "source": [
    "#### From the graph we can see that there exists an one outlier value above the maximum value."
   ]
  },
  {
   "cell_type": "markdown",
   "id": "1992ffd8",
   "metadata": {},
   "source": [
    "# The concept of Hypothesis Testing & P-value will be explained via the course slides.\n",
    "### Watch the video of chapter 3 @ 00:00 link>> linklinklinklink (coming soon)"
   ]
  },
  {
   "cell_type": "markdown",
   "id": "ff3f347f",
   "metadata": {},
   "source": [
    "_"
   ]
  },
  {
   "cell_type": "markdown",
   "id": "79feb494",
   "metadata": {},
   "source": [
    "### “It always seems impossible until it's done.” ― Nelson Mandela"
   ]
  },
  {
   "cell_type": "markdown",
   "id": "f23c2811",
   "metadata": {},
   "source": [
    "### For any questions please contact me:\n",
    "\n",
    "E-mail: 202036240@kfupm.edu.sa\n",
    "\n",
    "LinkedIn: https://www.linkedin.com/in/talal-harbi\n",
    "\n",
    "Twitter: TalalkhaledHr"
   ]
  },
  {
   "cell_type": "code",
   "execution_count": null,
   "id": "d85ceabf",
   "metadata": {},
   "outputs": [],
   "source": []
  }
 ],
 "metadata": {
  "kernelspec": {
   "display_name": "Python 3 (ipykernel)",
   "language": "python",
   "name": "python3"
  },
  "language_info": {
   "codemirror_mode": {
    "name": "ipython",
    "version": 3
   },
   "file_extension": ".py",
   "mimetype": "text/x-python",
   "name": "python",
   "nbconvert_exporter": "python",
   "pygments_lexer": "ipython3",
   "version": "3.9.12"
  }
 },
 "nbformat": 4,
 "nbformat_minor": 5
}
